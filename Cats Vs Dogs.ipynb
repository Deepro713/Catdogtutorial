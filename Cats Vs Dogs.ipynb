{
 "cells": [
  {
   "cell_type": "code",
   "execution_count": 1,
   "id": "12f4f8d4",
   "metadata": {},
   "outputs": [],
   "source": [
    "import numpy as np\n",
    "import cv2\n",
    "#pip install opencv-python\n",
    "import os\n",
    "import random\n",
    "import matplotlib.pyplot as plt\n",
    "import pickle"
   ]
  },
  {
   "cell_type": "code",
   "execution_count": 2,
   "id": "7227a628",
   "metadata": {},
   "outputs": [],
   "source": [
    "# import shutil\n",
    "\n",
    "# # Set the directory path where the images are located\n",
    "# directory_path = '/home/deepro/Projects/ML_Learning/Catdogtutorial/train'\n",
    "\n",
    "# # Set the paths for the cat and dog directories\n",
    "# cat_directory_path = '/home/deepro/Projects/ML_Learning/Catdogtutorial/dogscats/dataset/cat'\n",
    "# dog_directory_path = '/home/deepro/Projects/ML_Learning/Catdogtutorial/dogscats/dataset/dog'\n",
    "\n",
    "# # Loop through each file in the directory\n",
    "# for filename in os.listdir(directory_path):\n",
    "#     # Check if the filename contains the string 'cat'\n",
    "#     if 'cat' in filename:\n",
    "#         # Move the file to the cat directory\n",
    "#         shutil.move(os.path.join(directory_path, filename), cat_directory_path)\n",
    "#     # Check if the filename contains the string 'dog'\n",
    "#     elif 'dog' in filename:\n",
    "#         # Move the file to the dog directory\n",
    "#         shutil.move(os.path.join(directory_path, filename), dog_directory_path)\n"
   ]
  },
  {
   "cell_type": "code",
   "execution_count": 3,
   "id": "d59abcf9",
   "metadata": {},
   "outputs": [],
   "source": [
    "DIRECTORY = '/home/deepro/Projects/ML_Learning/Catdogtutorial/dogscats/dataset'\n",
    "CATEGORIES = ['cat', 'dog']"
   ]
  },
  {
   "cell_type": "code",
   "execution_count": 4,
   "id": "1a5f85a0",
   "metadata": {},
   "outputs": [],
   "source": [
    "IMG_SIZE = 100\n",
    "\n",
    "data = []\n",
    "\n",
    "for category in CATEGORIES:\n",
    "    folder = os.path.join(DIRECTORY, category)\n",
    "    label = CATEGORIES.index(category)\n",
    "    #print(folder)\n",
    "    for img in os.listdir(folder):\n",
    "        img_path = os.path.join(folder, img)\n",
    "        #print(img_path)\n",
    "        #break\n",
    "        img_arr = cv2.imread(img_path)\n",
    "        img_arr = cv2.resize(img_arr, (IMG_SIZE, IMG_SIZE))\n",
    "        #plt.imshow(img_arr)\n",
    "        #break\n",
    "        data.append([img_arr, label])"
   ]
  },
  {
   "cell_type": "code",
   "execution_count": 5,
   "id": "4beb2472",
   "metadata": {},
   "outputs": [
    {
     "data": {
      "text/plain": [
       "25000"
      ]
     },
     "execution_count": 5,
     "metadata": {},
     "output_type": "execute_result"
    }
   ],
   "source": [
    "len(data)"
   ]
  },
  {
   "cell_type": "code",
   "execution_count": 6,
   "id": "7ba356db",
   "metadata": {},
   "outputs": [],
   "source": [
    "random.shuffle(data)"
   ]
  },
  {
   "cell_type": "code",
   "execution_count": 7,
   "id": "ec238761",
   "metadata": {},
   "outputs": [],
   "source": [
    "#data[0]\n",
    "X = []\n",
    "Y = []\n",
    "\n",
    "for features, labels in data:\n",
    "    X.append(features)\n",
    "    Y.append(labels)"
   ]
  },
  {
   "cell_type": "code",
   "execution_count": 8,
   "id": "e39a911a",
   "metadata": {},
   "outputs": [],
   "source": [
    "X = np.array(X)\n",
    "Y = np.array(Y)"
   ]
  },
  {
   "cell_type": "code",
   "execution_count": 9,
   "id": "f2cdf60b",
   "metadata": {},
   "outputs": [],
   "source": [
    "# len(X)\n",
    "# len(Y)\n",
    "pickle.dump(X, open('X.pkl', 'wb'))\n",
    "pickle.dump(Y, open('Y.pkl', 'wb'))"
   ]
  },
  {
   "cell_type": "code",
   "execution_count": null,
   "id": "6d5aa93d",
   "metadata": {},
   "outputs": [],
   "source": []
  }
 ],
 "metadata": {
  "kernelspec": {
   "display_name": "Python 3 (ipykernel)",
   "language": "python",
   "name": "python3"
  },
  "language_info": {
   "codemirror_mode": {
    "name": "ipython",
    "version": 3
   },
   "file_extension": ".py",
   "mimetype": "text/x-python",
   "name": "python",
   "nbconvert_exporter": "python",
   "pygments_lexer": "ipython3",
   "version": "3.10.6"
  }
 },
 "nbformat": 4,
 "nbformat_minor": 5
}
